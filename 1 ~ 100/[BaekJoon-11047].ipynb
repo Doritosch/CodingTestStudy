{
 "cells": [
  {
   "attachments": {},
   "cell_type": "markdown",
   "metadata": {},
   "source": [
    "#### 11047 - 동전 0\n",
    "------------------"
   ]
  },
  {
   "attachments": {},
   "cell_type": "markdown",
   "metadata": {},
   "source": [
    "##### 1차 시도"
   ]
  },
  {
   "cell_type": "code",
   "execution_count": null,
   "metadata": {},
   "outputs": [],
   "source": [
    "n,cost = map(int,input().split())\n",
    "\n",
    "count = 0\n",
    "\n",
    "a= []\n",
    "for i in range(0,n) :\n",
    "  num = int(input())\n",
    "  a.append(num)\n",
    "a.sort(reverse= True)\n",
    "\n",
    "for i in a :\n",
    "  if cost == 0 :\n",
    "    break\n",
    "  if cost // i != 0 :\n",
    "    count += (cost // i)\n",
    "    cost -= i * (cost // i)\n",
    "      \n",
    "print(count)"
   ]
  }
 ],
 "metadata": {
  "language_info": {
   "name": "python"
  },
  "orig_nbformat": 4
 },
 "nbformat": 4,
 "nbformat_minor": 2
}

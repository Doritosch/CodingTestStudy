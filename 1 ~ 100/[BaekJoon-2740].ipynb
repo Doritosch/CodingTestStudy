{
 "cells": [
  {
   "attachments": {},
   "cell_type": "markdown",
   "metadata": {},
   "source": [
    "#### 2740 - 행렬의 곱셈\n",
    "----------------------"
   ]
  },
  {
   "attachments": {},
   "cell_type": "markdown",
   "metadata": {},
   "source": [
    "###### 리스트를 받아온 후에 2중 for문을 사용하여 행렬의 곱을 표현하였다."
   ]
  },
  {
   "attachments": {},
   "cell_type": "markdown",
   "metadata": {},
   "source": [
    "##### 1차 시도"
   ]
  },
  {
   "cell_type": "code",
   "execution_count": null,
   "metadata": {},
   "outputs": [],
   "source": [
    "N, M = map(int,input().split())\n",
    "    \n",
    "A = [list(map(int,input().split())) for _ in range(N)]\n",
    "\n",
    "M, K = map(int,input().split())\n",
    "\n",
    "B = [list(map(int,input().split())) for _ in range(M)]\n",
    "\n",
    "C = [[0 for _ in range(K)] for _ in range(K)]\n",
    "\n",
    "for i in range(N) :\n",
    "    for j in range(K) :\n",
    "        dot_product = sum(A[i][k]*B[k][j] for k in range(M))\n",
    "        C[i][j] = dot_product\n",
    "\n",
    "for rows in C :\n",
    "    print(*rows, sep = \" \")"
   ]
  },
  {
   "attachments": {},
   "cell_type": "markdown",
   "metadata": {},
   "source": [
    "###### 테스트 케이스를 실행했을 때 맞다고 나왔는데 행렬을 초기화 할 때 정방행렬로 나오게 해서 오답 처리가 된 것 같다"
   ]
  },
  {
   "attachments": {},
   "cell_type": "markdown",
   "metadata": {},
   "source": [
    "##### 2차 시도\n",
    "-------------"
   ]
  },
  {
   "cell_type": "code",
   "execution_count": null,
   "metadata": {},
   "outputs": [],
   "source": [
    "N, M = map(int,input().split())\n",
    "    \n",
    "A = [list(map(int,input().split())) for _ in range(N)]\n",
    "\n",
    "M, K = map(int,input().split())\n",
    "\n",
    "B = [list(map(int,input().split())) for _ in range(M)]\n",
    "\n",
    "C = [[0 for _ in range(K)] for _ in range(N)]\n",
    "\n",
    "for i in range(N) :\n",
    "    for j in range(K) :\n",
    "        dot_product = sum(A[i][k]*B[k][j] for k in range(M))\n",
    "        C[i][j] = dot_product\n",
    "\n",
    "for rows in C :\n",
    "    print(*rows, sep = \" \")"
   ]
  }
 ],
 "metadata": {
  "language_info": {
   "name": "python"
  },
  "orig_nbformat": 4
 },
 "nbformat": 4,
 "nbformat_minor": 2
}

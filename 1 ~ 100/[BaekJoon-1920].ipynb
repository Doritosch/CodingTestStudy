{
 "cells": [
  {
   "attachments": {},
   "cell_type": "markdown",
   "metadata": {},
   "source": [
    "#### 1920 - 수 찾기\n",
    "-----------------------"
   ]
  },
  {
   "attachments": {},
   "cell_type": "markdown",
   "metadata": {},
   "source": [
    "##### 1차 시도"
   ]
  },
  {
   "cell_type": "code",
   "execution_count": null,
   "metadata": {},
   "outputs": [],
   "source": [
    "import sys\n",
    "input = sys.stdin.readline\n",
    "\n",
    "def binary_search(array = list(), target = int(), left = int(), right = int()) :\n",
    "    \n",
    "    if left > right :\n",
    "        return 0\n",
    "    \n",
    "    mid = (left + right) // 2\n",
    "    \n",
    "    if target == array[mid] :\n",
    "        return 1\n",
    "    elif target > array[mid] :\n",
    "        return binary_search(array = array, target = target, left = mid+1, right = right)\n",
    "    else :\n",
    "        return binary_search(array = array, target = target, left = left, right = mid -1)\n",
    "    \n",
    "N = int(input())\n",
    "\n",
    "A = list(map(int,input().split()))\n",
    "A.sort()\n",
    "\n",
    "M = int(input())\n",
    "\n",
    "C = list(map(int,input().split()))\n",
    "\n",
    "for i in range(len(C)) :\n",
    "    C[i] = binary_search(array = A,target = C[i],left = 0, right = len(A) - 1)\n",
    "\n",
    "for i in range(len(C)) :\n",
    "    print(C[i])"
   ]
  },
  {
   "attachments": {},
   "cell_type": "markdown",
   "metadata": {},
   "source": [
    "###### 컴프리헨션을 사용하여 바로 결과 값을 넣는 방법도 있었다\n",
    "``` \n",
    "C = [1 if binary_search(array = A, target = input_int, left = 0, right = len(A) - 1) else 0 for input_int in map(int, input().split())]\n",
    "```"
   ]
  }
 ],
 "metadata": {
  "language_info": {
   "name": "python"
  },
  "orig_nbformat": 4
 },
 "nbformat": 4,
 "nbformat_minor": 2
}

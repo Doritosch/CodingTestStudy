{
 "cells": [
  {
   "attachments": {},
   "cell_type": "markdown",
   "metadata": {},
   "source": [
    "#### 7287 - 다이얼\n",
    "-----------------"
   ]
  },
  {
   "attachments": {},
   "cell_type": "markdown",
   "metadata": {},
   "source": [
    "##### 1차 시도"
   ]
  },
  {
   "cell_type": "code",
   "execution_count": null,
   "metadata": {},
   "outputs": [],
   "source": [
    "word = input()\n",
    "sum = 0\n",
    "\n",
    "for i in range(len(word)) :\n",
    "    if(ord(word[i]) < 80) :\n",
    "        sum += (ord(word[i]) % ord('A')) // 3 + 3\n",
    "    elif word[i] in ['P','Q','R','S'] :\n",
    "        sum += 8\n",
    "    elif word[i] in ['T','U','V'] :\n",
    "        sum += 9\n",
    "    else : \n",
    "        sum += 10\n",
    "    \n",
    "print(sum)"
   ]
  }
 ],
 "metadata": {
  "language_info": {
   "name": "python"
  },
  "orig_nbformat": 4
 },
 "nbformat": 4,
 "nbformat_minor": 2
}

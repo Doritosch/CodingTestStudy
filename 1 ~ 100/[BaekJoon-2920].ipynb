{
 "cells": [
  {
   "attachments": {},
   "cell_type": "markdown",
   "metadata": {},
   "source": [
    "#### 2920 - 음계\n",
    "---------------"
   ]
  },
  {
   "attachments": {},
   "cell_type": "markdown",
   "metadata": {},
   "source": [
    "##### 1차 시도"
   ]
  },
  {
   "cell_type": "code",
   "execution_count": null,
   "metadata": {},
   "outputs": [],
   "source": [
    "n = list(map(int,input().split()))\n",
    "\n",
    "if (n[0] == 1) :\n",
    "    for i in range(len(n)-1) :\n",
    "        if (n[i] != n[i+1] - 1) :\n",
    "            print('mixed')\n",
    "            exit()\n",
    "    print('ascending')\n",
    "elif (n[0] == 8) :\n",
    "    for i in range(len(n)-1) :\n",
    "        if (n[i] != n[i+1] + 1) :\n",
    "            print('mixed')\n",
    "            exit()\n",
    "    print('descending')\n",
    "else :\n",
    "    print('mixed')\n",
    "        "
   ]
  }
 ],
 "metadata": {
  "language_info": {
   "name": "python"
  },
  "orig_nbformat": 4
 },
 "nbformat": 4,
 "nbformat_minor": 2
}

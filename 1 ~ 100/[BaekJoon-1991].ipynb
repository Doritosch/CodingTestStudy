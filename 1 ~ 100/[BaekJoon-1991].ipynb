{
 "cells": [
  {
   "attachments": {},
   "cell_type": "markdown",
   "metadata": {},
   "source": [
    "#### 1744 - 수 묶기\n",
    "------------------"
   ]
  },
  {
   "attachments": {},
   "cell_type": "markdown",
   "metadata": {},
   "source": [
    "###### 양수, 0과 음수를 담는 리스트를 만들고 리스트의 길이가 홀수일 때, 원소가 1일때는 덧셈을 하는 등 만족시키는 조건들을 추가하여 나타내었다."
   ]
  },
  {
   "attachments": {},
   "cell_type": "markdown",
   "metadata": {},
   "source": [
    "##### 1차 시도"
   ]
  },
  {
   "cell_type": "code",
   "execution_count": null,
   "metadata": {},
   "outputs": [],
   "source": [
    "import sys\n",
    "input = sys.stdin.readline\n",
    "\n",
    "n = int(input())\n",
    "\n",
    "num = [int(input()) for _ in range(n)]\n",
    "\n",
    "num.sort(reverse= True)\n",
    "\n",
    "\n",
    "p_answer = [i for i in num if i > 0]\n",
    "n_answer = [i for i in num if i <= 0]\n",
    "\n",
    "p_answer.sort(reverse=True)\n",
    "n_answer.sort()\n",
    "answer = []\n",
    "\n",
    "for i in range(0,len(p_answer)-1,2) :\n",
    "    if p_answer[i] == 1 or p_answer[i+1] == 1 :\n",
    "        answer.append(p_answer[i]+p_answer[i+1])\n",
    "    else :\n",
    "        answer.append(p_answer[i]*p_answer[i+1])\n",
    "if len(p_answer) % 2 == 1 :\n",
    "    answer.append(p_answer[-1])\n",
    "for i in range(0,len(n_answer)-1,2) :\n",
    "    answer.append(n_answer[i]*n_answer[i+1])\n",
    "if len(n_answer) % 2 == 1 :\n",
    "    answer.append(n_answer[-1])    \n",
    "print(sum(answer))"
   ]
  },
  {
   "attachments": {},
   "cell_type": "markdown",
   "metadata": {},
   "source": [
    "###### 코드가 불필요하게 복잡해진 것 같다고 느꼈고, 더 나은 방법은 없을까해서 숏코딩한 유저의 코드를 참고하였다."
   ]
  },
  {
   "cell_type": "code",
   "execution_count": null,
   "metadata": {},
   "outputs": [],
   "source": [
    "a=b=0;t=1\n",
    "for i in sorted(map(int,[*open(0)][1:])):a,b,t=b,max(b+i,a+t*i),i   \n",
    "print(b)"
   ]
  },
  {
   "attachments": {},
   "cell_type": "markdown",
   "metadata": {},
   "source": [
    "###### 첫번째 줄을 제외하고 나머지 줄을 내림차순으로 받아와 for문으로 합, 곱의 최댓 값을 구분하여 최댓값을 계산하는 방식으로 이해를 했다.\n",
    "###### 추가적으로 배워간 것은"
   ]
  },
  {
   "cell_type": "code",
   "execution_count": null,
   "metadata": {},
   "outputs": [],
   "source": [
    "sorted(map(int,[*open(0)][1:]))"
   ]
  },
  {
   "attachments": {},
   "cell_type": "markdown",
   "metadata": {},
   "source": [
    "###### [*open(0)]은 모든 라인을 리스트로 받아오며\n",
    "###### [1:]은 첫 번째 라인을 제외한 모든 라인을 선택한다\n",
    "###### int(input()) for _ in range(n) 으로 리스트를 생성하는 것과 달리, 이런 방식으로도 리스트를 생성할 수 있음을 새롭게 알게 되었다\n",
    "###### **문제가 안 풀릴 때는 한 방법만 고집하지 말고 유연하게 대처하도록 하자**"
   ]
  }
 ],
 "metadata": {
  "language_info": {
   "name": "python"
  },
  "orig_nbformat": 4
 },
 "nbformat": 4,
 "nbformat_minor": 2
}

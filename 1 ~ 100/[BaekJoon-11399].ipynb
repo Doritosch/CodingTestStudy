{
 "cells": [
  {
   "attachments": {},
   "cell_type": "markdown",
   "metadata": {},
   "source": [
    "#### 11399 - ATM\n",
    "----------------"
   ]
  },
  {
   "attachments": {},
   "cell_type": "markdown",
   "metadata": {},
   "source": [
    "##### 1차 시도"
   ]
  },
  {
   "cell_type": "code",
   "execution_count": null,
   "metadata": {},
   "outputs": [],
   "source": [
    "n = int(input())\n",
    "p = list(map(int,input().split()))\n",
    "\n",
    "p.sort()\n",
    "\n",
    "sum = 0\n",
    "\n",
    "for i in range(0,n) :\n",
    "  sum += p[i]\n",
    "  for k in range(0,i) :\n",
    "   sum += p[k]\n",
    "    \n",
    "print(sum)"
   ]
  }
 ],
 "metadata": {
  "language_info": {
   "name": "python"
  },
  "orig_nbformat": 4
 },
 "nbformat": 4,
 "nbformat_minor": 2
}

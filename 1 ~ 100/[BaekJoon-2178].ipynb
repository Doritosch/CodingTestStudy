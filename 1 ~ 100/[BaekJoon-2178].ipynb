{
 "cells": [
  {
   "attachments": {},
   "cell_type": "markdown",
   "metadata": {},
   "source": [
    "#### 2178 - 미로 탐색\n",
    "-------------------"
   ]
  },
  {
   "attachments": {},
   "cell_type": "markdown",
   "metadata": {},
   "source": [
    "###### **최단경로를 찾는 문제에서 BFS를 사용하도록 하자**\n",
    "###### 방문한 노드들을 차례대로 관리할 수 있는 **큐(Queue)** 를 사용. 즉, 선입선출(FIFO)을 원칙으로 탐색한다."
   ]
  },
  {
   "attachments": {},
   "cell_type": "markdown",
   "metadata": {},
   "source": [
    "##### 1차 시도"
   ]
  },
  {
   "cell_type": "code",
   "execution_count": 3,
   "metadata": {},
   "outputs": [
    {
     "name": "stdout",
     "output_type": "stream",
     "text": [
      "15\n"
     ]
    }
   ],
   "source": [
    "from collections import deque\n",
    "\n",
    "dx = [1, 0, -1, 0]\n",
    "dy = [0, 1, 0, -1]\n",
    "\n",
    "def bfs(x,y) :\n",
    "    queue = deque()\n",
    "    queue.append((x,y))\n",
    "    \n",
    "    while queue :\n",
    "        x,y = queue.popleft()\n",
    "        \n",
    "        for i in range(4) :\n",
    "            nx = x + dx[i]\n",
    "            ny = y + dy[i]\n",
    "        \n",
    "            if nx < 0 or nx >= n or ny < 0 or ny >= m :\n",
    "                continue\n",
    "            if maze[nx][ny] == 0 :\n",
    "                continue\n",
    "            if maze[nx][ny] == 1 :\n",
    "                maze[nx][ny] = maze[x][y] + 1\n",
    "                queue.append((nx,ny))\n",
    "    return maze[n-1][m-1]\n",
    "    \n",
    "    \n",
    "   \n",
    "                \n",
    "n,m = map(int,input().split())  # n = 열 m = 행 \n",
    "      #eval() +\n",
    "maze = [list(map(int,list(input()))) for _ in range(n)]\n",
    "\n",
    "print(bfs(0,0))"
   ]
  }
 ],
 "metadata": {
  "kernelspec": {
   "display_name": "CodingTest",
   "language": "python",
   "name": "conda"
  },
  "language_info": {
   "codemirror_mode": {
    "name": "ipython",
    "version": 3
   },
   "file_extension": ".py",
   "mimetype": "text/x-python",
   "name": "python",
   "nbconvert_exporter": "python",
   "pygments_lexer": "ipython3",
   "version": "3.11.2"
  },
  "orig_nbformat": 4
 },
 "nbformat": 4,
 "nbformat_minor": 2
}

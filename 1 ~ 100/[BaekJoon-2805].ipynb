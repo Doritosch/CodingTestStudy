{
 "cells": [
  {
   "attachments": {},
   "cell_type": "markdown",
   "metadata": {},
   "source": [
    "#### 2805 - 나무 자르기\n",
    "---------------------------"
   ]
  },
  {
   "attachments": {},
   "cell_type": "markdown",
   "metadata": {},
   "source": [
    "##### 1차 시도"
   ]
  },
  {
   "cell_type": "code",
   "execution_count": null,
   "metadata": {},
   "outputs": [],
   "source": [
    "import sys\n",
    "input = sys.stdin.readline\n",
    "\n",
    "def binary_search(array = list(), target = int(), left = int(), right = int()) : \n",
    "    if left > right :\n",
    "        return right\n",
    "    \n",
    "    mid = (left + right) // 2\n",
    "    \n",
    "    cnt =  0\n",
    "    for i in array :\n",
    "        if mid < i :\n",
    "            cnt += i - mid\n",
    "\n",
    "    if cnt >= target :\n",
    "        return binary_search(array, target,mid + 1, right)\n",
    "    else : \n",
    "        return binary_search( array, target, left, mid -1)\n",
    "\n",
    "N, M = map(int,input().split())\n",
    "\n",
    "tree = list(map(int,input().split()))\n",
    "tree.sort()\n",
    "\n",
    "print(binary_search(tree, M, 1, max(tree)))\n",
    "\n",
    "#문제 발생 : output에서 1 차이로 오답인 상황 발생\n",
    "#해결 - 조건문 잘 확인하자"
   ]
  }
 ],
 "metadata": {
  "language_info": {
   "name": "python"
  },
  "orig_nbformat": 4
 },
 "nbformat": 4,
 "nbformat_minor": 2
}

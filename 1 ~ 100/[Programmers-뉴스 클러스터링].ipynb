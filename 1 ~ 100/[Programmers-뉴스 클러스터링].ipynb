{
 "cells": [
  {
   "attachments": {},
   "cell_type": "markdown",
   "metadata": {},
   "source": [
    "#### 2018 KAKAO BLIND RECRUITMENT - 뉴스 클러스터링\n",
    "--------------------------------------------------"
   ]
  },
  {
   "attachments": {},
   "cell_type": "markdown",
   "metadata": {},
   "source": [
    "풀면서 안좋은 습관들이 자주 나온 것 같아 반성을 하게 되는 문제인 것 같다. <br>\n",
    "문제는 다음과 같이 해결하였다. <br>\n",
    "* 문자열을 두 글자씩 끊어서 담아줌\n",
    "* 담은 요소들의 특수문자, 숫자, 공백 제거\n",
    "* 두 글자가 안되는 요소들 제거\n",
    "* 다중 합, 교집합 생성\n",
    "* 식 계산 <br> <br>\n",
    "사실, 푸는 과정에서 불필요한 변수 생성, 변수 명을 알아볼 수 없도록 하는 등 나쁜 행동을 하여... 지금도 반성하고 있다. 😓 <br>\n",
    "다음부터는 그러지말자..."
   ]
  },
  {
   "attachments": {},
   "cell_type": "markdown",
   "metadata": {},
   "source": [
    "#### 1차 시도\n",
    "------------"
   ]
  },
  {
   "cell_type": "code",
   "execution_count": null,
   "metadata": {},
   "outputs": [],
   "source": [
    "import re\n",
    "\n",
    "def solution(str1, str2):\n",
    "    answer = 0\n",
    "    str1_list = []\n",
    "    str2_list = []\n",
    "    for i in range(len(str1)-1) :\n",
    "        str1_list.append(str1.casefold()[i:i+2])\n",
    "    for i in range(len(str2)-1) :\n",
    "        str2_list.append(str2.casefold()[i:i+2])\n",
    "    for i in range(len(str1_list)) :\n",
    "        str1_list[i] = re.sub(r\"[^a-z]\",\"\",str1_list[i])\n",
    "    for i in range(len(str2_list)) :\n",
    "        str2_list[i] = re.sub(r\"[^a-z]\",\"\",str2_list[i])\n",
    "    a1 = [x for x in str1_list if len(x) > 1]\n",
    "    a2 = [x for x in str2_list if len(x) > 1]\n",
    "    \n",
    "    a3 = a1.copy()\n",
    "    a4 = a1.copy()\n",
    "    a5 = []\n",
    "    for i in a2 :\n",
    "        if i not in a3 :\n",
    "            a4.append(i)\n",
    "        else :\n",
    "            a3.remove(i)\n",
    "            a5.append(i)\n",
    "    try :\n",
    "        answer = int((len(a5) / len(a4)) * 65536)\n",
    "    except : \n",
    "        answer = 65536\n",
    "    return answer"
   ]
  }
 ],
 "metadata": {
  "language_info": {
   "name": "python"
  },
  "orig_nbformat": 4
 },
 "nbformat": 4,
 "nbformat_minor": 2
}

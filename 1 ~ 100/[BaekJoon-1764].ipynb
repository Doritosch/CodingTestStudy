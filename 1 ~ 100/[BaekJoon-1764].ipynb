{
 "cells": [
  {
   "attachments": {},
   "cell_type": "markdown",
   "metadata": {},
   "source": [
    "#### 1764 - 듣보잡\n",
    "------------"
   ]
  },
  {
   "attachments": {},
   "cell_type": "markdown",
   "metadata": {},
   "source": [
    "###### 시간초과가 나는 경우 **input()** 이 느려서 발생하는 문제일 수 있으니, **sys 모듈**을 이용해서 입력 받으면 시간 제한에 걸리지 않는다.\n",
    "                                               \n",
    "                                        import sys\n",
    "                                        input = sys.stdin.readline"
   ]
  },
  {
   "attachments": {},
   "cell_type": "markdown",
   "metadata": {},
   "source": [
    "##### 1차 시도 "
   ]
  },
  {
   "cell_type": "code",
   "execution_count": 1,
   "metadata": {},
   "outputs": [],
   "source": [
    "import sys\n",
    "input = sys.stdin.readline\n",
    "\n",
    "N,M = map(int,input().split())\n",
    "\n",
    "no_listen = set([str(input()) for _ in range(N)])\n",
    "answer = [input_str for input_str in (str(input()) for _ in range(M)) if input_str in no_listen]\n",
    "\n",
    "count = len(answer)\n",
    "\n",
    "print(count)\n",
    "\n",
    "for name in sorted(answer) :\n",
    "    print(name.strip())"
   ]
  }
 ],
 "metadata": {
  "kernelspec": {
   "display_name": "CodingTest",
   "language": "python",
   "name": "conda"
  },
  "language_info": {
   "codemirror_mode": {
    "name": "ipython",
    "version": 3
   },
   "file_extension": ".py",
   "mimetype": "text/x-python",
   "name": "python",
   "nbconvert_exporter": "python",
   "pygments_lexer": "ipython3",
   "version": "3.11.2"
  },
  "orig_nbformat": 4
 },
 "nbformat": 4,
 "nbformat_minor": 2
}

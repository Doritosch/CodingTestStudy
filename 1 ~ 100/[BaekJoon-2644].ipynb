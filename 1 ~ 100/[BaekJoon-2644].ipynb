{
 "cells": [
  {
   "attachments": {},
   "cell_type": "markdown",
   "metadata": {},
   "source": [
    "#### 2644 - 촌수계산\n",
    "------------------"
   ]
  },
  {
   "attachments": {},
   "cell_type": "markdown",
   "metadata": {},
   "source": [
    "###### 인접한 노드를 탐색할 때 너비 우선 탐색(BFS)을 사용하였다."
   ]
  },
  {
   "attachments": {},
   "cell_type": "markdown",
   "metadata": {},
   "source": [
    "##### 1차 시도"
   ]
  },
  {
   "cell_type": "code",
   "execution_count": null,
   "metadata": {},
   "outputs": [],
   "source": [
    "from collections import deque\n",
    "\n",
    "def bfs(first,visited) :\n",
    "    queue = deque()\n",
    "    queue.append(first)\n",
    "    \n",
    "    while queue :\n",
    "        v = queue.popleft()\n",
    "        \n",
    "        for i in pedigree[v] :\n",
    "            if visited[i] == 0 :\n",
    "                visited[i] = visited[v] + 1\n",
    "                queue.append(i)\n",
    "    return visited[end]\n",
    "            \n",
    "\n",
    "N = int(input())\n",
    "pedigree = [[] for i in range(N+1)]\n",
    "\n",
    "start,end = map(int,input().split())\n",
    "n = int(input())\n",
    "for i in range(n) :\n",
    "    p, q = map(int,input().split())\n",
    "    pedigree[p].append(q)\n",
    "    pedigree[q].append(p)\n",
    "     \n",
    "visited = [0] * (N+1)\n",
    "\n",
    "if bfs(start,visited) != 0 :  \n",
    "    print(bfs(start,visited))\n",
    "else :\n",
    "    print(-1)"
   ]
  }
 ],
 "metadata": {
  "language_info": {
   "name": "python"
  },
  "orig_nbformat": 4
 },
 "nbformat": 4,
 "nbformat_minor": 2
}

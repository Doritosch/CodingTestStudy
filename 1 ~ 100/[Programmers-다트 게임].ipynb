{
 "cells": [
  {
   "attachments": {},
   "cell_type": "markdown",
   "metadata": {},
   "source": [
    "#### 2018 KAKAO BLIND RECRUITMENT - 다트 게임\n",
    "--------------------------------------------"
   ]
  },
  {
   "attachments": {},
   "cell_type": "markdown",
   "metadata": {},
   "source": [
    "아스키코드를 사용해 접근하는 방법도 생각해 보았지만, 점수를 저장하는 배열을 선언하고 받은 문자열에서 바로 연산을 하여 저장하는 방식이 직관적인 것 같았다."
   ]
  },
  {
   "attachments": {},
   "cell_type": "markdown",
   "metadata": {},
   "source": [
    "#### 1차 시도\n",
    "-------------"
   ]
  },
  {
   "cell_type": "code",
   "execution_count": null,
   "metadata": {},
   "outputs": [],
   "source": [
    "def solution(dartResult):\n",
    "    answer = 0\n",
    "    score = []\n",
    "    for i in range(0,len(dartResult)-1,2) :\n",
    "        \n",
    "        if dartResult[i+1] == 'S' :\n",
    "            score.append(int(dartResult[i]) ** 1)\n",
    "        elif dartResult[i+1] == 'D' :\n",
    "            score.append(int(dartResult[i]) ** 2)\n",
    "        elif dartResult[i+1] == 'T' : \n",
    "            score.append(int(dartResult[i]) ** 3)\n",
    "        if i+2 <= len(dartResult)-1 :\n",
    "            if dartResult[i+2] == '*' :\n",
    "                for j in range(0,score) :\n",
    "                    score[j] *= 2\n",
    "                i += 1\n",
    "            if dartResult[i+2] == '#' :\n",
    "                score[len(score)-1] *= (-1)\n",
    "                i += 1\n",
    "    answer = sum(score)\n",
    "    return answer\n"
   ]
  },
  {
   "attachments": {},
   "cell_type": "markdown",
   "metadata": {},
   "source": [
    "Error : 'list' object cannot be interpreted as an integer <br>\n",
    "이 에러는 for문에서 range값에 리스트를 넣어서 생긴 문제로 보인다. <br>\n",
    "그리고 리스트의 길이에 맞지않은 반복 횟수나 조건들(숫자가 10일때, 반복 횟수 재설정)을 수정하여 다시 채점해 보았다."
   ]
  },
  {
   "attachments": {},
   "cell_type": "markdown",
   "metadata": {},
   "source": [
    "#### 2차 시도\n",
    "-------------"
   ]
  },
  {
   "cell_type": "code",
   "execution_count": null,
   "metadata": {},
   "outputs": [],
   "source": [
    "def solution(dartResult):\n",
    "    answer = 0\n",
    "    score = []\n",
    "    for i in range(0,len(dartResult)) :\n",
    "        if dartResult[i] == '*' :\n",
    "            if len(score) == 1 :\n",
    "                score[0] *= 2\n",
    "            else :\n",
    "                score[len(score)-1] *= 2\n",
    "                score[len(score)-2] *= 2\n",
    "        if dartResult[i] == '#' :\n",
    "            score[len(score)-1] *= (-1)\n",
    "        if dartResult[i-1] == '0' and dartResult[i-2] == '1' :\n",
    "            if dartResult[i] == 'S' : score.append(10 ** 1)\n",
    "            if dartResult[i] == 'D' : score.append(10 ** 2)\n",
    "            if dartResult[i] == 'T' : score.append(10 ** 3)\n",
    "        else :\n",
    "            if dartResult[i] == 'S' :\n",
    "                score.append(int(dartResult[i-1]) ** 1)\n",
    "            elif dartResult[i] == 'D' :\n",
    "                score.append(int(dartResult[i-1]) ** 2)\n",
    "            elif dartResult[i] == 'T' : \n",
    "                score.append(int(dartResult[i-1]) ** 3)\n",
    "\n",
    "    answer = sum(score)\n",
    "    return answer\n"
   ]
  }
 ],
 "metadata": {
  "language_info": {
   "name": "python"
  },
  "orig_nbformat": 4
 },
 "nbformat": 4,
 "nbformat_minor": 2
}

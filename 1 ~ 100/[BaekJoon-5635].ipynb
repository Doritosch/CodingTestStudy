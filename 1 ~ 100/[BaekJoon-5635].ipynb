{
 "cells": [
  {
   "attachments": {},
   "cell_type": "markdown",
   "metadata": {},
   "source": [
    "#### 5635 - 생일\n",
    "---------------"
   ]
  },
  {
   "attachments": {},
   "cell_type": "markdown",
   "metadata": {},
   "source": [
    "###### 내장메소드인 **sort()** 는 merge sort와 insertion sort를 조합한 **Tim sort 알고리즘** 을 사용하며 최악의 경우에도 O(n log n)의 시간 복잡도를 가진다. "
   ]
  },
  {
   "attachments": {},
   "cell_type": "markdown",
   "metadata": {},
   "source": [
    "##### 1차 시도"
   ]
  },
  {
   "cell_type": "code",
   "execution_count": null,
   "metadata": {},
   "outputs": [],
   "source": [
    "import sys\n",
    "input = sys.stdin.readline\n",
    "\n",
    "n = int(input())\n",
    "\n",
    "info = [list(map(str,input().split())) for _ in range(n)]\n",
    "\n",
    "info.sort(key = lambda x : (int(x[3]), int(x[2]), int(x[1])))\n",
    "print(info[len(info)-1][0])\n",
    "print(info[0][0])"
   ]
  }
 ],
 "metadata": {
  "language_info": {
   "name": "python"
  },
  "orig_nbformat": 4
 },
 "nbformat": 4,
 "nbformat_minor": 2
}

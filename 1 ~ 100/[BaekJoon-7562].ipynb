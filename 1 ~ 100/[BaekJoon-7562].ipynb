{
 "cells": [
  {
   "attachments": {},
   "cell_type": "markdown",
   "metadata": {},
   "source": [
    "#### 7562 - 나이트의 이동\n",
    "-----------------------"
   ]
  },
  {
   "attachments": {},
   "cell_type": "markdown",
   "metadata": {},
   "source": [
    "###### BFS를 사용하여 풀었다."
   ]
  },
  {
   "attachments": {},
   "cell_type": "markdown",
   "metadata": {},
   "source": [
    "##### 1차 시도"
   ]
  },
  {
   "cell_type": "code",
   "execution_count": null,
   "metadata": {},
   "outputs": [],
   "source": [
    "from collections import deque\n",
    "\n",
    "dx = [-2, -1, 1, 2, 2, 1, -1, -2]\n",
    "dy = [1, 2, 2, 1, -1, -2, -2, -1]\n",
    "\n",
    "def bfs(x,y) :\n",
    "    queue = deque()\n",
    "    queue.append((x,y))\n",
    "    \n",
    "    while queue :\n",
    "        x,y = queue.popleft()\n",
    "        \n",
    "        if x == end_x and y == end_y :\n",
    "            return board[x][y]\n",
    "        \n",
    "        for i in range(8) :\n",
    "            nx = x + dx[i]\n",
    "            ny = y + dy[i]\n",
    "            \n",
    "            if nx < 0 or ny < 0 or nx >= n or ny >= n :\n",
    "                continue\n",
    "            if board[nx][ny] == 0 :\n",
    "                board[nx][ny] = board[x][y] + 1\n",
    "                queue.append((nx,ny))\n",
    "            \n",
    "                \n",
    "            \n",
    "N = int(input())\n",
    "\n",
    "for i in range(N) :\n",
    "    n = int(input())\n",
    "    board = [[0 for j in range(n)] for i in range(n)]\n",
    "    start_x, start_y = map(int,input().split())\n",
    "    end_x, end_y = map(int,input().split())\n",
    "    print(bfs(start_x,start_y))"
   ]
  },
  {
   "attachments": {},
   "cell_type": "markdown",
   "metadata": {},
   "source": [
    "###### 간혹 문제를 풀고 숏코딩을 보면 2차원 배열을 선언할때 **eval()** 함수를 사용하는 걸 볼 수 있다. 보기에는 간편할지라도\n",
    "    __import__('os').system('ls /')\n",
    "###### 다음과 같은 입력을 했을 때, 서버의 root 디렉토리의 정보가 그대로 노출되는 취약점을 가지고 있다. \n"
   ]
  }
 ],
 "metadata": {
  "language_info": {
   "name": "python"
  },
  "orig_nbformat": 4
 },
 "nbformat": 4,
 "nbformat_minor": 2
}

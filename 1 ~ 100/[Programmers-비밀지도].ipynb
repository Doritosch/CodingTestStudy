{
 "cells": [
  {
   "attachments": {},
   "cell_type": "markdown",
   "metadata": {},
   "source": [
    "#### 비밀지도\n",
    "------------"
   ]
  },
  {
   "attachments": {},
   "cell_type": "markdown",
   "metadata": {},
   "source": [
    "###### 단순하게 요소 하나씩 **trans()** 에 넣어 2진수 변환하여 반환하는 식으로 진행하였다. "
   ]
  },
  {
   "attachments": {},
   "cell_type": "markdown",
   "metadata": {},
   "source": [
    "##### 1차 시도"
   ]
  },
  {
   "cell_type": "code",
   "execution_count": null,
   "metadata": {},
   "outputs": [],
   "source": [
    "def trans(data1, data2) :\n",
    "    a = bin(data1)\n",
    "    b = bin(data2)\n",
    "    \n",
    "    answer = \"\"\n",
    "    for i in range(2, len(a)-1) :\n",
    "        if a[i] == 1 or b[i] == 1:\n",
    "            answer.append(\"#\")\n",
    "        else : \n",
    "            answer.append(\" \")\n",
    "    return answer"
   ]
  },
  {
   "attachments": {},
   "cell_type": "markdown",
   "metadata": {},
   "source": [
    "------------------"
   ]
  },
  {
   "attachments": {},
   "cell_type": "markdown",
   "metadata": {},
   "source": [
    "###### 2진수로 변환 할 때는 정수형으로 변환 한 후에 진행해야한다\n",
    "###### **zfill()** 함수를 사용하면 스트링 앞에 0을 채울 수 있다고 한다"
   ]
  },
  {
   "attachments": {},
   "cell_type": "markdown",
   "metadata": {},
   "source": [
    "##### 2차 시도"
   ]
  },
  {
   "cell_type": "code",
   "execution_count": null,
   "metadata": {},
   "outputs": [],
   "source": [
    "def solution(n, arr1, arr2):\n",
    "    answer = []\n",
    "    for i in range(n) :\n",
    "        merged = int(arr1[i]) | int(arr2[i])\n",
    "        merged = bin(merged)[2:].zfill(n)\n",
    "        merged = merged.replace(\"1\",\"#\").replace(\"0\",\" \")\n",
    "        answer.append(merged)\n",
    "    return answer"
   ]
  }
 ],
 "metadata": {
  "language_info": {
   "name": "python"
  },
  "orig_nbformat": 4
 },
 "nbformat": 4,
 "nbformat_minor": 2
}

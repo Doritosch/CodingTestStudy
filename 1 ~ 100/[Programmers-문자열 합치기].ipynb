{
 "cells": [
  {
   "attachments": {},
   "cell_type": "markdown",
   "metadata": {},
   "source": [
    "### [Programmers - 문자열 합치기](https://school.programmers.co.kr/learn/courses/30/lessons/60057#)\n",
    "------------------"
   ]
  },
  {
   "attachments": {},
   "cell_type": "markdown",
   "metadata": {},
   "source": [
    "문자열을 슬라이스 한 뒤, 배열의 다음 값을 확인하여 중복값을 처리하는 방향으로 접근하였습니다."
   ]
  },
  {
   "attachments": {},
   "cell_type": "markdown",
   "metadata": {},
   "source": [
    "#### 1차 시도\n",
    "---------------"
   ]
  },
  {
   "cell_type": "code",
   "execution_count": null,
   "metadata": {
    "vscode": {
     "languageId": "plaintext"
    }
   },
   "outputs": [],
   "source": [
    "def solution(s):\n",
    "    answer = len(s)\n",
    "    for i in range(1,len(s)//2 + 1) :\n",
    "        counter = 1\n",
    "        copy= []\n",
    "        b = []\n",
    "        copy = [s[j:j+i] for j in range(0,len(s), i)]\n",
    "        for k in range(len(copy)-1) :\n",
    "            if copy[k] == copy[k+1] :\n",
    "                counter += 1\n",
    "            else :\n",
    "                if counter > 1 : \n",
    "                    b.append(str(counter))\n",
    "                b.append(copy[k])\n",
    "                counter = 1\n",
    "        if counter > 1:\n",
    "            b.append(str(counter))\n",
    "        b.append(copy[-1])\n",
    "        b = ''.join(b)\n",
    "        if len(b) < answer :\n",
    "            answer = len(b)\n",
    "    return answer"
   ]
  }
 ],
 "metadata": {
  "language_info": {
   "name": "python"
  },
  "orig_nbformat": 4
 },
 "nbformat": 4,
 "nbformat_minor": 2
}

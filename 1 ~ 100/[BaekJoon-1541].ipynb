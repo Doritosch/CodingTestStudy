{
 "cells": [
  {
   "attachments": {},
   "cell_type": "markdown",
   "metadata": {},
   "source": [
    "### 1541 - 잃어버린 괄호\n",
    "------------------------"
   ]
  },
  {
   "attachments": {},
   "cell_type": "markdown",
   "metadata": {},
   "source": [
    "최솟값을 구하는 문제이므로 '-'를 기준으로 나눈 후에 첫번째 값을 제외한 나머지 값들은 더합니다. 그 후에 첫번째 값과 차를 구하면 되는 문제입니다."
   ]
  },
  {
   "attachments": {},
   "cell_type": "markdown",
   "metadata": {},
   "source": [
    "#### 1차 시도"
   ]
  },
  {
   "cell_type": "code",
   "execution_count": 3,
   "metadata": {},
   "outputs": [
    {
     "name": "stdout",
     "output_type": "stream",
     "text": [
      "0\n"
     ]
    }
   ],
   "source": [
    "answer = list(map(str,input().split('-')))\n",
    "for i in range(len(answer)) :\n",
    "    temp = sum(list(map(int,answer[i].split('+'))))\n",
    "    answer[i] = temp\n",
    "if len(answer) > 1 :\n",
    "    answer[1] = sum(answer[1:])\n",
    "    answer[0] -= answer[1]\n",
    "print(answer[0])"
   ]
  }
 ],
 "metadata": {
  "kernelspec": {
   "display_name": "CodingTest",
   "language": "python",
   "name": "conda"
  },
  "language_info": {
   "codemirror_mode": {
    "name": "ipython",
    "version": 3
   },
   "file_extension": ".py",
   "mimetype": "text/x-python",
   "name": "python",
   "nbconvert_exporter": "python",
   "pygments_lexer": "ipython3",
   "version": "3.11.3"
  },
  "orig_nbformat": 4
 },
 "nbformat": 4,
 "nbformat_minor": 2
}

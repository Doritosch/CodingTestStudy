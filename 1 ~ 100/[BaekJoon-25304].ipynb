{
 "cells": [
  {
   "attachments": {},
   "cell_type": "markdown",
   "metadata": {},
   "source": [
    "#### 25304 - 영수증\n",
    "------------------"
   ]
  },
  {
   "attachments": {},
   "cell_type": "markdown",
   "metadata": {},
   "source": [
    "##### 1차 시도"
   ]
  },
  {
   "cell_type": "code",
   "execution_count": null,
   "metadata": {},
   "outputs": [],
   "source": [
    "price = int(input())\n",
    "\n",
    "n = int(input())\n",
    "\n",
    "item = [[0 for _ in range(2)] for _ in range(n)]\n",
    "sum = 0\n",
    "\n",
    "for i in range(n) :\n",
    "    item[i][0],item[i][1] = map(int,input().split())\n",
    "    sum += (item[i][0] * item[i][1])\n",
    "\n",
    "if(price == sum) :\n",
    "    print('Yes')\n",
    "else :\n",
    "    print('No')"
   ]
  }
 ],
 "metadata": {
  "language_info": {
   "name": "python"
  },
  "orig_nbformat": 4
 },
 "nbformat": 4,
 "nbformat_minor": 2
}

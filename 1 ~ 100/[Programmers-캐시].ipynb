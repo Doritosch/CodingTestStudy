{
 "cells": [
  {
   "attachments": {},
   "cell_type": "markdown",
   "metadata": {},
   "source": [
    "#### Programmer - 캐시\n",
    "---------------------"
   ]
  },
  {
   "attachments": {},
   "cell_type": "markdown",
   "metadata": {},
   "source": [
    "###### 캐시에 데이터를 넣을 때 두 가지 조건을 두고 진행하였다.\n",
    "###### 1. 캐시에 데이터가 이미 있는지\n",
    "###### 2. 캐시의 길이가 cacheSize와 같은지\n",
    "###### 캐시 관리는 append()와 pop() 함수를 사용하였다."
   ]
  },
  {
   "attachments": {},
   "cell_type": "markdown",
   "metadata": {},
   "source": [
    "##### 1차 시도"
   ]
  },
  {
   "cell_type": "code",
   "execution_count": null,
   "metadata": {},
   "outputs": [],
   "source": [
    "def solution(cacheSize, cities):\n",
    "    answer = 0\n",
    "    cache = []\n",
    "    for city in cities :\n",
    "        if not city in cache :\n",
    "            if len(cache) <cacheSize :\n",
    "                cache.append(city)\n",
    "                answer += 5\n",
    "            else : \n",
    "                cache.pop(0)\n",
    "                cache.append(city)\n",
    "                answer += 5\n",
    "        else :\n",
    "            cache[0] , cache[cache.index(city)] = cache[cache.index(city)], cache[0]\n",
    "            answer += 1        \n",
    "    return answer"
   ]
  },
  {
   "attachments": {},
   "cell_type": "markdown",
   "metadata": {},
   "source": [
    "###### 정답이였으면 좋겠지만 빠진게 2개 있었다.\n",
    "###### 1. city의 대소문자 구분\n",
    "###### 2. 이미 캐시에 city가 들어있을 때 캐시 관리"
   ]
  },
  {
   "attachments": {},
   "cell_type": "markdown",
   "metadata": {},
   "source": [
    "##### 2차 시도"
   ]
  },
  {
   "attachments": {},
   "cell_type": "markdown",
   "metadata": {},
   "source": [
    "###### list의 경우 **pop(0)** 으로 가장 앞단의 값을 꺼내는 경우에는 list 크기에 따라 읽어 오는 시간이 달라지며 O(n)이 걸린다\n",
    "###### 대신에 deque의 **popleft()** 를 사용하면 list의 pop(0)과 같은 기능을 하면서 O(1)이 걸린다고 한다\n",
    "###### 대소문자 구분은 **casefold()** 를 사용하여 문자열을 소문자로 변경하였다"
   ]
  },
  {
   "cell_type": "code",
   "execution_count": null,
   "metadata": {},
   "outputs": [],
   "source": [
    "from collections import deque\n",
    "\n",
    "def solution(cacheSize, cities):\n",
    "    answer = 0\n",
    "    cache = []\n",
    "    cache = deque(cache)\n",
    "    \n",
    "    for city in cities :\n",
    "        data = city.casefold()\n",
    "        if data not in cache :\n",
    "            if len(cache) == cacheSize :\n",
    "                if cacheSize == 0 :\n",
    "                    answer += 5\n",
    "                    continue\n",
    "                cache.popleft()\n",
    "                cache.append(data)\n",
    "                answer += 5\n",
    "            else : \n",
    "                cache.append(data)\n",
    "                answer += 5\n",
    "        else :\n",
    "            cache.remove(data)\n",
    "            cache.append(data)\n",
    "            answer += 1\n",
    "    return answer"
   ]
  }
 ],
 "metadata": {
  "language_info": {
   "name": "python"
  },
  "orig_nbformat": 4
 },
 "nbformat": 4,
 "nbformat_minor": 2
}

{
 "cells": [
  {
   "attachments": {},
   "cell_type": "markdown",
   "metadata": {},
   "source": [
    "#### 10026 - 적록색약\n",
    "--------------------"
   ]
  },
  {
   "attachments": {},
   "cell_type": "markdown",
   "metadata": {},
   "source": [
    "##### 1차 시도"
   ]
  },
  {
   "cell_type": "code",
   "execution_count": null,
   "metadata": {},
   "outputs": [],
   "source": [
    "import copy\n",
    "import sys\n",
    "sys.setrecursionlimit(10**6)\n",
    "dx = [1, 0, -1, 0]\n",
    "dy = [0, 1, 0, -1]\n",
    "\n",
    "def dfs(x,y, n, color) :\n",
    "    board1[y][x] = 'C'   #방문표시\n",
    "    for k in range(4) :\n",
    "        nx,ny = x + dx[k], y + dy[k]\n",
    "        if 0 <= nx < n and 0 <= ny < n :\n",
    "            if board1[ny][nx] == color:\n",
    "                dfs(nx,ny,n,color)\n",
    "    return 1\n",
    "\n",
    "def blindness_dfs(x,y, n, blind_color) :\n",
    "    board2[y][x] = 'C'   #방문표시\n",
    "    for k in range(4) :\n",
    "        nx,ny = x + dx[k], y + dy[k]\n",
    "        if 0 <= nx < n and 0 <= ny < n :\n",
    "            if (blind_color == 'R' or blind_color =='G') and (board2[ny][nx] == 'R' or board2[ny][nx] == 'G') :\n",
    "                blindness_dfs(nx,ny,n,blind_color)\n",
    "            elif board2[ny][nx] == blind_color :\n",
    "                blindness_dfs(nx,ny,n,blind_color)   \n",
    "    return 1\n",
    "\n",
    "n = int(input())\n",
    "\n",
    "board1 = [list(map(str,list(input()))) for _ in range(n)]\n",
    "board2 = [arr[:] for arr in board1]\n",
    "\n",
    "normal = 0  #평범\n",
    "blindness = 0   #색약\n",
    "for i in range(n) :\n",
    "    for j in range(n) :\n",
    "        if board1[i][j] != 'C' :\n",
    "            color = board1[i][j]\n",
    "            normal += dfs(j,i,n,color)\n",
    "        if board2[i][j] != 'C' :\n",
    "            blind_color = board2[i][j]\n",
    "            blindness += blindness_dfs(j,i,n,blind_color)\n",
    "\n",
    "print(normal,blindness)"
   ]
  }
 ],
 "metadata": {
  "language_info": {
   "name": "python"
  },
  "orig_nbformat": 4
 },
 "nbformat": 4,
 "nbformat_minor": 2
}

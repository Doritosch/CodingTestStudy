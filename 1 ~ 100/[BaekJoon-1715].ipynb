{
 "cells": [
  {
   "attachments": {},
   "cell_type": "markdown",
   "metadata": {},
   "source": [
    "### 1715 - 카드 정렬하기\n",
    "-----------------------"
   ]
  },
  {
   "attachments": {},
   "cell_type": "markdown",
   "metadata": {},
   "source": [
    "문제는 인덱스에 순차적으로 접근하여, 계산할 때 마다 정렬하는 방식으로 접근하였습니다. <br>"
   ]
  },
  {
   "attachments": {},
   "cell_type": "markdown",
   "metadata": {},
   "source": [
    "#### 1차 시도"
   ]
  },
  {
   "cell_type": "code",
   "execution_count": null,
   "metadata": {},
   "outputs": [],
   "source": [
    "import sys\n",
    "input = sys.stdin.readline\n",
    "\n",
    "n = int(input())\n",
    "\n",
    "card = [int(input()) for _ in range(n)]\n",
    "card.sort()\n",
    "answer = 0\n",
    "for i in range(n-1) :\n",
    "    if card[i] > card[i+1] :\n",
    "        card.sort()\n",
    "    card[i+1] += card[i]\n",
    "    answer += card[i+1]\n",
    "print(answer) "
   ]
  },
  {
   "attachments": {},
   "cell_type": "markdown",
   "metadata": {},
   "source": [
    "정확도는 만족하지만, 의미가 없을 수도 있는 **sort()** 때문에 효율성이 좋지않아 시간초과가 나왔습니다.<br> <br> <br>"
   ]
  },
  {
   "attachments": {},
   "cell_type": "markdown",
   "metadata": {},
   "source": [
    "-----------------"
   ]
  },
  {
   "attachments": {},
   "cell_type": "markdown",
   "metadata": {},
   "source": [
    "이 문제를 해결하기 위해서 우선순위 큐 알고리즘을 제공하는 **heapq** 모듈을 사용하였습니다. heapq 모듈을 처음 사용하여서 함수를 하나씩 알아가야 할 것 같습니다. <br> \n",
    "문제를 풀면서 사용한 함수는 **heapq.heapify()**, **heapq.heappush()**, **heapq.heappop()** 을 사용하였습니다. <br>\n",
    "**heapq.heapify()** 는 리스트를 힙으로 변환시켜주는 함수 입니다. **heapq.heappop()** 은 힙 안의 가장 작은 항목을 반환하고 **heapq.heappop()** 은 힙에 값을 넣어주는 함수 입니다.\n",
    "<br>\n",
    "문제의 접근 방식은 1차 시도와 같습니다."
   ]
  },
  {
   "attachments": {},
   "cell_type": "markdown",
   "metadata": {},
   "source": [
    "#### 2차 시도 \n",
    "------------"
   ]
  },
  {
   "cell_type": "code",
   "execution_count": null,
   "metadata": {},
   "outputs": [],
   "source": [
    "import sys, heapq\n",
    "input = sys.stdin.readline\n",
    "\n",
    "n = int(input())\n",
    "\n",
    "card = [int(input()) for _ in range(n)]\n",
    "heapq.heapify(card)\n",
    "answer = 0\n",
    "for i in range(n-1) :\n",
    "    temp = heapq.heappop(card) + heapq.heappop(card)\n",
    "    heapq.heappush(card,temp)\n",
    "    answer += temp\n",
    "print(answer)"
   ]
  }
 ],
 "metadata": {
  "language_info": {
   "name": "python"
  },
  "orig_nbformat": 4
 },
 "nbformat": 4,
 "nbformat_minor": 2
}

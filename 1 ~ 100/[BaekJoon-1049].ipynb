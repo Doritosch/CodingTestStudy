{
 "cells": [
  {
   "attachments": {},
   "cell_type": "markdown",
   "metadata": {},
   "source": [
    "### [1049 - 수리공 항승](#https://www.acmicpc.net/problem/1449)\n",
    "---------------------"
   ]
  },
  {
   "attachments": {},
   "cell_type": "markdown",
   "metadata": {},
   "source": [
    "파이프에 순차적으로 접근하여 거리를 계산하고 길이에 맞지 않으면 거리를 초기화하고, 개수를 늘려가는 식으로 접근하였습니다. <br>"
   ]
  },
  {
   "attachments": {},
   "cell_type": "markdown",
   "metadata": {},
   "source": [
    "#### 1차 시도"
   ]
  },
  {
   "cell_type": "code",
   "execution_count": null,
   "metadata": {},
   "outputs": [],
   "source": [
    "N, L = map(int,input().split())\n",
    "\n",
    "pipe = list(map(int,input().split()))\n",
    "\n",
    "pipe.sort()\n",
    "tape = 1\n",
    "dist = 0\n",
    "for i in range(1,N) :\n",
    "    dist += pipe[i] - pipe[i-1]\n",
    "    if dist < L :\n",
    "        continue\n",
    "    else :\n",
    "        dist = 0\n",
    "        tape += 1\n",
    "print(tape)"
   ]
  }
 ],
 "metadata": {
  "language_info": {
   "name": "python"
  },
  "orig_nbformat": 4
 },
 "nbformat": 4,
 "nbformat_minor": 2
}

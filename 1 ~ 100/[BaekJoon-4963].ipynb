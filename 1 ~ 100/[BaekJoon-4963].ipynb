{
 "cells": [
  {
   "attachments": {},
   "cell_type": "markdown",
   "metadata": {},
   "source": [
    "#### 4963 - 섬의 개수\n",
    "-------------------"
   ]
  },
  {
   "attachments": {},
   "cell_type": "markdown",
   "metadata": {},
   "source": [
    "###### 탐색하고자하는 방향의 개수와 추가 조건들을 생각하며 풀면 더 예쁜(?) 코드가 될 것 같다.\n",
    "###### 문제는 DFS를 사용하였다."
   ]
  },
  {
   "attachments": {},
   "cell_type": "markdown",
   "metadata": {},
   "source": [
    "##### 1차 시도"
   ]
  },
  {
   "cell_type": "code",
   "execution_count": null,
   "metadata": {},
   "outputs": [],
   "source": [
    "import sys\n",
    "sys.setrecursionlimit(10**4)\n",
    "\n",
    "dx = [1, 1, 0, -1, -1, -1, 0, 1]\n",
    "dy = [0, 1, 1, 1, 0, -1, -1, -1]\n",
    "\n",
    "def dfs(x,y,w,h) :\n",
    "    island[y][x] = 2    #방문표시\n",
    "    for k in range(8) :\n",
    "        nx,ny = x + dx[k], y + dy[k]\n",
    "        if 0 <= nx < w and 0 <= ny < h :\n",
    "            if island[ny][nx] == 1 :\n",
    "                dfs(nx,ny,w,h)\n",
    "    return 1\n",
    "\n",
    "while True :\n",
    "    w, h = map(int,input().split())\n",
    "    \n",
    "    if w == 0 and h == 0 :  #종료 조건 \n",
    "        break\n",
    "    \n",
    "    island = [list(map(int,input().split())) for _ in range(h)]\n",
    "    sum = 0\n",
    "    for i in range(h) :\n",
    "        for j in range(w) :\n",
    "            if island[i][j] == 1 :\n",
    "               sum += dfs(j,i,w,h)\n",
    "    \n",
    "    print(sum)"
   ]
  }
 ],
 "metadata": {
  "language_info": {
   "name": "python"
  },
  "orig_nbformat": 4
 },
 "nbformat": 4,
 "nbformat_minor": 2
}

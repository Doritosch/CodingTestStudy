{
 "cells": [
  {
   "attachments": {},
   "cell_type": "markdown",
   "metadata": {},
   "source": [
    "#### 2667 - 단지번호붙이기\n",
    "------------------------"
   ]
  },
  {
   "attachments": {},
   "cell_type": "markdown",
   "metadata": {},
   "source": [
    "###### 인접한 노드를 탐색할 때 깊이 우선 탐색(DFS)을 사용하였다."
   ]
  },
  {
   "attachments": {},
   "cell_type": "markdown",
   "metadata": {},
   "source": [
    "##### 1차 시도"
   ]
  },
  {
   "cell_type": "code",
   "execution_count": null,
   "metadata": {},
   "outputs": [],
   "source": [
    "dx = [1, 0, -1, 0]\n",
    "dy = [0, 1, 0, -1]\n",
    "\n",
    "def dfs(x,y,n) :\n",
    "    global sum\n",
    "    apart[y][x] = 2    #방문표시\n",
    "    for k in range(4) :\n",
    "        nx,ny = x + dx[k], y + dy[k]\n",
    "        if 0 <= nx < n and 0 <= ny < n :\n",
    "            if apart[ny][nx] == 1 :\n",
    "                sum += 1\n",
    "                dfs(nx,ny,n)\n",
    "    return 1\n",
    "\n",
    "n = int(input())\n",
    "count = 0\n",
    "complex = []    #단지\n",
    "\n",
    "apart = [list(map(int,list(input()))) for _ in range(n)]\n",
    "\n",
    "for i in range(n) :\n",
    "    for j in range(n) :\n",
    "        if apart[i][j] == 1 :\n",
    "          sum = 1\n",
    "          count += dfs(j,i,n)\n",
    "          complex.append(sum)\n",
    "\n",
    "complex.sort()\n",
    "\n",
    "print(count)\n",
    "for i in range(len(complex)) :\n",
    "    print(complex[i])"
   ]
  }
 ],
 "metadata": {
  "language_info": {
   "name": "python"
  },
  "orig_nbformat": 4
 },
 "nbformat": 4,
 "nbformat_minor": 2
}

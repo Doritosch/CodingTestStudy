{
 "cells": [
  {
   "attachments": {},
   "cell_type": "markdown",
   "metadata": {},
   "source": [
    "#### 2839 - 설탕 배달\n",
    "-------------"
   ]
  },
  {
   "attachments": {},
   "cell_type": "markdown",
   "metadata": {},
   "source": [
    "##### 1차 시도"
   ]
  },
  {
   "cell_type": "code",
   "execution_count": null,
   "metadata": {},
   "outputs": [],
   "source": [
    "n = int(input()) #kg \n",
    "\n",
    "count = 0\n",
    " \n",
    "while n >= 0 :\n",
    "  if n % 5 == 0 : \n",
    "    count += n / 5\n",
    "    n = 0 \n",
    "    break\n",
    "  else :\n",
    "    n -= 3\n",
    "    count += 1\n",
    "    \n",
    "  \n",
    "if n == 0 :\n",
    "  print(int(count))\n",
    "else : \n",
    "  print('-1')"
   ]
  }
 ],
 "metadata": {
  "language_info": {
   "name": "python"
  },
  "orig_nbformat": 4
 },
 "nbformat": 4,
 "nbformat_minor": 2
}

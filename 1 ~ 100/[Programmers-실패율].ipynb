{
 "cells": [
  {
   "attachments": {},
   "cell_type": "markdown",
   "metadata": {},
   "source": [
    "### Programmers - 실패율\n",
    "------------------------"
   ]
  },
  {
   "attachments": {},
   "cell_type": "markdown",
   "metadata": {},
   "source": [
    "문제는 2차원 배열 선언 후, 특정 index를 for문을 사용하여 계산하고 정렬하는 식으로 접근하였습니다."
   ]
  },
  {
   "attachments": {},
   "cell_type": "markdown",
   "metadata": {},
   "source": [
    "#### 1차 시도"
   ]
  },
  {
   "cell_type": "code",
   "execution_count": null,
   "metadata": {},
   "outputs": [],
   "source": [
    "def solution(N, stages):\n",
    "    n = len(stages)\n",
    "    data = [[i,stages.count(i)] for i in range(1,N+1)]\n",
    "    for i in range(N) :\n",
    "        if(n > 0) :\n",
    "            data_t = data[i][1]\n",
    "            data[i][1] = data[i][1] / n\n",
    "            n -= data_t\n",
    "    data.sort(key = lambda x : (-x[1]))\n",
    "    answer = [data[i][0] for i in range(N)]\n",
    "    return answer"
   ]
  }
 ],
 "metadata": {
  "language_info": {
   "name": "python"
  },
  "orig_nbformat": 4
 },
 "nbformat": 4,
 "nbformat_minor": 2
}
